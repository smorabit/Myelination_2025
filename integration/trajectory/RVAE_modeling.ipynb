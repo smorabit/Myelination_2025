{
 "cells": [
  {
   "cell_type": "code",
   "execution_count": 16,
   "metadata": {},
   "outputs": [],
   "source": [
    "# using scvi environment:\n",
    "import scvi\n",
    "import scanpy as sc\n",
    "import numpy as np\n",
    "import pandas as pd\n",
    "from datetime import datetime\n",
    "from rvagene.rvagene import RVAgene\n",
    "from rvagene.utils import open_data\n",
    "import numpy as np\n",
    "import torch\n",
    "import matplotlib\n",
    "import seaborn as sns\n",
    "matplotlib.use('Agg')\n",
    "import matplotlib.pyplot as plt\n",
    "from matplotlib.patches import Patch\n",
    "from mpl_toolkits.mplot3d import Axes3D\n",
    "from torch.utils.data import TensorDataset\n",
    "import sys\n",
    "import os\n",
    "\n",
    "%matplotlib inline\n",
    "\n",
    "os.chdir('/dfs3b/swaruplab/smorabit/collab/AMRF/analysis/ATAC/RVAgene/RVAgene')"
   ]
  },
  {
   "cell_type": "markdown",
   "metadata": {},
   "source": [
    "## Select Model Parameters"
   ]
  },
  {
   "cell_type": "code",
   "execution_count": 8,
   "metadata": {},
   "outputs": [],
   "source": [
    "# ODC pseudotime DEGs\n",
    "opt = {\n",
    "  'dataset' : \"ODC_RVAE\",\n",
    "  'hidden_size' : 48,\n",
    "  'hidden_layer_depth' : 2,\n",
    "  'latent_length' : 2,\n",
    "  'batch_size' : 26,\n",
    "  'learning_rate' : 0.003,\n",
    "  'n_epochs' : 100,\n",
    "  'dropout_rate' : 0.2,\n",
    "  'optimizer' : 'Adam', # options: ADAM, SGD\n",
    "  'cuda' : True, # options: True, False\n",
    "  'print_every' : 5, # must be fewer than batch size?\n",
    "  'clip' : True, # options: True, False\n",
    "  'max_grad_norm' : 5,\n",
    "  'loss' : 'MSELoss', # options: SmoothL1Loss, MSELoss\n",
    "  'palette' : 'deep' # seaborn color palette\n",
    "}"
   ]
  },
  {
   "cell_type": "markdown",
   "metadata": {},
   "source": [
    "## Model setup"
   ]
  },
  {
   "cell_type": "code",
   "execution_count": 9,
   "metadata": {},
   "outputs": [],
   "source": [
    "X_train, _, y_train, _ = open_data('data', ratio_train=1, dataset=opt['dataset'])\n",
    "feature_names = pd.read_csv('data/{}/feature_names.csv'.format(opt['dataset']), header=None)\n",
    "\n",
    "num_classes = len(np.unique(y_train))\n",
    "base = np.min(y_train)  # Check if data is 0-based\n",
    "if base != 0:\n",
    "    y_train -= base\n",
    "\n",
    "train_dataset = TensorDataset(torch.from_numpy(X_train))\n",
    "\n",
    "sequence_length = X_train.shape[1]\n",
    "number_of_features = X_train.shape[2]\n",
    "\n",
    "rvagene_model = RVAgene(sequence_length=sequence_length,\n",
    "            number_of_features = number_of_features,\n",
    "            hidden_size = opt['hidden_size'],\n",
    "            hidden_layer_depth = opt['hidden_layer_depth'],\n",
    "            latent_length = opt['latent_length'],\n",
    "            batch_size = opt['batch_size'],\n",
    "            learning_rate = opt['learning_rate'],\n",
    "            n_epochs = opt['n_epochs'],\n",
    "            dropout_rate = opt['dropout_rate'],\n",
    "            optimizer = opt['optimizer'],\n",
    "            cuda = opt['cuda'],\n",
    "            print_every=opt['print_every'],\n",
    "            clip=opt['clip'],\n",
    "            max_grad_norm=opt['max_grad_norm'],\n",
    "            loss = opt['loss'],\n",
    "            #log_file = 'testing2.log'\n",
    "            log_file = 'data/{}/{}.log'.format(opt['dataset'], opt['dataset'])\n",
    ")\n"
   ]
  },
  {
   "cell_type": "markdown",
   "metadata": {},
   "source": [
    "## Train the model"
   ]
  },
  {
   "cell_type": "code",
   "execution_count": 10,
   "metadata": {},
   "outputs": [
    {
     "name": "stdout",
     "output_type": "stream",
     "text": [
      "Writing training log to given file, set log_file=None to log to STDOUT\n"
     ]
    }
   ],
   "source": [
    "rvagene_model.fit(train_dataset)\n"
   ]
  },
  {
   "cell_type": "code",
   "execution_count": 11,
   "metadata": {},
   "outputs": [],
   "source": [
    "# save trained model:\n",
    "torch.save(rvagene_model.state_dict(), \"models/{}_trained_{}_epochs.pt\".format(opt['dataset'], opt['n_epochs']))\n"
   ]
  },
  {
   "cell_type": "code",
   "execution_count": 13,
   "metadata": {},
   "outputs": [
    {
     "data": {
      "text/plain": [
       "RVAgene(n_epochs=100,batch_size=26,cuda=True)"
      ]
     },
     "execution_count": 13,
     "metadata": {},
     "output_type": "execute_result"
    }
   ],
   "source": [
    "# re-load trained model:\n",
    "rvagene_model.load_state_dict(torch.load(\"models/{}_trained_{}_epochs.pt\".format(opt['dataset'], opt['n_epochs'])))\n",
    "rvagene_model.eval()\n"
   ]
  },
  {
   "cell_type": "markdown",
   "metadata": {},
   "source": [
    "## Plot the loss curve"
   ]
  },
  {
   "cell_type": "code",
   "execution_count": 17,
   "metadata": {},
   "outputs": [
    {
     "data": {
      "image/png": "[encoded data removed]",
      "text/plain": [
       "<Figure size 432x216 with 1 Axes>"
      ]
     },
     "metadata": {
      "needs_background": "light"
     },
     "output_type": "display_data"
    }
   ],
   "source": [
    "\n",
    "# load log file\n",
    "file = open('data/{}/{}.log'.format(opt['dataset'], opt['dataset']), 'r')\n",
    "lines = file.read().splitlines()\n",
    "\n",
    "loss = []\n",
    "for line in lines:\n",
    "  if \"Average loss:\" in line:\n",
    "    loss.append(float(line.split(':')[1].replace(' ', '')))\n",
    "\n",
    "df = pd.DataFrame(loss)\n",
    "df.columns = ['loss']\n",
    "df['epoch'] = np.arange(0, df.shape[0])\n",
    "\n",
    "fig, axes = plt.subplots(figsize=(6,3))\n",
    "sns.scatterplot(data=df, x='epoch', y='loss', ax=axes, color='gray')\n",
    "sns.lineplot(data=df, x='epoch', y='loss', ax=axes, color='black')\n",
    "\n",
    "sns.despine();\n",
    "plt.tight_layout()\n",
    "plt.savefig('figures/{}_loss.pdf'.format(opt['dataset']))\n"
   ]
  },
  {
   "cell_type": "markdown",
   "metadata": {},
   "source": [
    "## Plot latent space (Z)"
   ]
  },
  {
   "cell_type": "code",
   "execution_count": 22,
   "metadata": {},
   "outputs": [
    {
     "data": {
      "image/png": "[encoded data removed]",
      "text/plain": [
       "<Figure size 288x288 with 1 Axes>"
      ]
     },
     "metadata": {},
     "output_type": "display_data"
    }
   ],
   "source": [
    "z_run = rvagene_model.transform(train_dataset)  ## latent embeddings of training genes\n",
    "\n",
    "############### plot 2 dimensional z plot ##################\n",
    "\n",
    "df = pd.DataFrame()\n",
    "df['Z1'] = z_run[:,0]\n",
    "df['Z2'] = z_run[:,1]\n",
    "df['feature'] = feature_names[0].to_list()[0:df.shape[0]]\n",
    "\n",
    "label_features = ['SPI1', 'ETS1']\n",
    "df_labels = df[df['feature'].isin(label_features)]\n",
    "\n",
    "\n",
    "fig, axes = plt.subplots(figsize=(4,4))\n",
    "sns.scatterplot(data = df, x=\"Z1\", y='Z2', ax=axes, color='black');\n",
    "sns.despine();\n",
    "#plt.legend(bbox_to_anchor=(1.01, 1),borderaxespad=0)\n",
    "plt.tick_params(\n",
    "    axis='both',          # changes apply to the x-axis\n",
    "    which='both',      # both major and minor ticks are affected\n",
    "    bottom=False,      # ticks along the bottom edge are off\n",
    "    top=False,         # ticks along the top edge are off\n",
    "    labelbottom=False,\n",
    "    labelleft=False,\n",
    "    left=False,\n",
    "    right=False)\n",
    "\n",
    "# plot text:\n",
    "# for x,y,label in zip(df_labels['Z1'], df_labels['Z2'], df_labels['feature']):\n",
    "#   plt.text(x=x, y=y, s=label, color='blue')\n",
    "\n",
    "params = {'mathtext.default': 'regular' }\n",
    "plt.rcParams.update(params)\n",
    "axes.set_xlabel(\"$Z_{1}$\")\n",
    "axes.set_ylabel(\"$Z_{2}$\")\n",
    "plt.tight_layout()\n",
    "plt.savefig('figures/{}_Z_embedding.pdf'.format(opt['dataset']))\n",
    "\n"
   ]
  },
  {
   "cell_type": "markdown",
   "metadata": {},
   "source": [
    "## Reconstruction"
   ]
  },
  {
   "cell_type": "code",
   "execution_count": 23,
   "metadata": {},
   "outputs": [],
   "source": [
    "\n",
    "# reconstruct actual data:\n",
    "smoothed = np.squeeze(rvagene_model.reconstruct(train_dataset))\n",
    "\n",
    "# df of reconstructed\n",
    "smoothed_df = pd.DataFrame(smoothed)\n",
    "smoothed_df.columns = feature_names[0].to_list()[0:smoothed.shape[1]]\n",
    "smoothed_df['pseudotime_bin'] = np.arange(0, smoothed.shape[0])\n",
    "smoothed_melted = smoothed_df.melt(id_vars='pseudotime_bin')\n",
    "smoothed_melted.columns = ['pseudotime_bin', 'feature', 'reconstructed']\n",
    "\n",
    "# format original data in same way:\n",
    "feature_df = pd.DataFrame(np.transpose(np.squeeze(X_train)[0:smoothed.shape[1]]))\n",
    "feature_df.columns = feature_names[0].to_list()[0:smoothed.shape[1]]\n",
    "feature_df['pseudotime_bin'] = np.arange(0, smoothed.shape[0])\n",
    "feature_melted = feature_df.melt(id_vars='pseudotime_bin')\n",
    "feature_melted.columns = ['pseudotime_bin', 'feature', 'original']\n",
    "\n",
    "# combine table:\n",
    "smoothed_melted['original'] = feature_melted['original']\n",
    "\n",
    "# write reconstructed matrix\n",
    "out_df = smoothed_df.drop('pseudotime_bin', axis=1).transpose()\n",
    "out_df['Z1'] = df['Z1'].to_list()\n",
    "out_df['Z2'] = df['Z2'].to_list()\n",
    "\n",
    "# write output\n",
    "out_df.to_csv('data/reconstructed/{}_recon.csv'.format(opt['dataset']), header=True)\n"
   ]
  },
  {
   "cell_type": "code",
   "execution_count": 32,
   "metadata": {},
   "outputs": [
    {
     "data": {
      "image/png": "[encoded data removed]",
      "text/plain": [
       "<Figure size 288x144 with 1 Axes>"
      ]
     },
     "metadata": {
      "needs_background": "light"
     },
     "output_type": "display_data"
    }
   ],
   "source": [
    "# plot reconstruction for a few genes:\n",
    "\n",
    "cur_gene = 'Mbp'\n",
    "cur_gene = 'Pdgfra'\n",
    "cur_gene = 'Klk6'\n",
    "cur_gene = 'Opalin'\n",
    "\n",
    "gene_df = smoothed_melted[smoothed_melted['feature'] == cur_gene]\n",
    "gene_df.shape\n",
    "\n",
    "fig, axes = plt.subplots(figsize=(4,2))\n",
    "sns.scatterplot(data=gene_df, x='pseudotime_bin', y='original', ax=axes, color='green')\n",
    "sns.lineplot(data=gene_df, x='pseudotime_bin', y='reconstructed', ax=axes, color='pink')\n",
    "\n",
    "axes.set_title(cur_gene)\n",
    "axes.set_xlabel(\"pseudotime\")\n",
    "axes.set_ylabel(\"expression\")\n",
    "plt.tick_params(\n",
    "    axis='x',          # changes apply to the x-axis\n",
    "    which='both',      # both major and minor ticks are affected\n",
    "    bottom=False,      # ticks along the bottom edge are off\n",
    "    top=False,         # ticks along the top edge are off\n",
    "    labelbottom=False\n",
    "    )\n",
    "sns.despine();\n",
    "plt.tight_layout()\n",
    "plt.savefig('figures/{}_{}_reconstructed.pdf'.format(opt['dataset'], cur_gene))\n"
   ]
  },
  {
   "cell_type": "markdown",
   "metadata": {},
   "source": [
    "## Use trained model to predict on another dataset (aka gl-cCRE datasets)"
   ]
  },
  {
   "cell_type": "code",
   "execution_count": null,
   "metadata": {},
   "outputs": [],
   "source": [
    "\n",
    "# load other data:\n",
    "other_data_name = 'MG_enhancers'\n",
    "other_data_name = 'ASC_enhancers'\n",
    "other_data_name = 'ODC_enhancers'\n",
    "\n",
    "\n",
    "X_other, _, y_other, _ = open_data('data', ratio_train=1, dataset=other_data_name)\n",
    "other_feature_names = pd.read_csv('data/{}/feature_names.csv'.format(other_data_name), header=None)\n",
    "\n",
    "other_dataset = TensorDataset(torch.from_numpy(X_other))\n",
    "\n",
    "# reconstruct actual data:\n",
    "z_other = rvagene_model.transform(other_dataset)  ## latent embeddings of training genes\n",
    "smoothed_other = np.squeeze(rvagene_model.reconstruct(other_dataset))\n",
    "\n",
    "# Z df\n",
    "df = pd.DataFrame()\n",
    "df['Z1'] = z_other[:,0]\n",
    "df['Z2'] = z_other[:,1]\n",
    "df['feature'] = other_feature_names[0].to_list()[0:df.shape[0]]\n",
    "\n",
    "\n",
    "# df of reconstructed\n",
    "smoothed_df = pd.DataFrame(smoothed_other)\n",
    "smoothed_df.columns = other_feature_names[0].to_list()[0:smoothed_df.shape[1]]\n",
    "smoothed_df['pseudotime_bin'] = np.arange(0, smoothed_other.shape[0])\n",
    "smoothed_melted = smoothed_df.melt(id_vars='pseudotime_bin')\n",
    "smoothed_melted.columns = ['pseudotime_bin', 'feature', 'reconstructed']\n",
    "\n",
    "# format original data in same way:\n",
    "feature_df = pd.DataFrame(np.transpose(np.squeeze(X_other)[0:smoothed_other.shape[1]]))\n",
    "feature_df.columns = other_feature_names[0].to_list()[0:smoothed_other.shape[1]]\n",
    "feature_df['pseudotime_bin'] = np.arange(0, smoothed_other.shape[0])\n",
    "feature_melted = feature_df.melt(id_vars='pseudotime_bin')\n",
    "feature_melted.columns = ['pseudotime_bin', 'feature', 'original']\n",
    "\n",
    "# combine table:\n",
    "smoothed_melted['original'] = feature_melted['original']\n",
    "\n",
    "# write reconstructed matrix\n",
    "# add k-means cluster ID and Z1 Z2 to this table!!\n",
    "out_df = smoothed_df.drop('pseudotime_bin', axis=1).transpose()\n",
    "out_df['Z1'] = df['Z1'].to_list()\n",
    "out_df['Z2'] = df['Z2'].to_list()\n",
    "# out_df['cluster'] = df['cluster'].to_list()\n",
    "\n",
    "\n",
    "out_df.to_csv('data/reconstructed/{}_recon.csv'.format(other_data_name), header=True)\n",
    "\n"
   ]
  }
 ],
 "metadata": {
  "kernelspec": {
   "display_name": "scvi-env",
   "language": "python",
   "name": "scvi-env"
  },
  "language_info": {
   "codemirror_mode": {
    "name": "ipython",
    "version": 3
   },
   "file_extension": ".py",
   "mimetype": "text/x-python",
   "name": "python",
   "nbconvert_exporter": "python",
   "pygments_lexer": "ipython3",
   "version": "3.7.11"
  }
 },
 "nbformat": 4,
 "nbformat_minor": 4
}
